{
 "cells": [
  {
   "cell_type": "code",
   "execution_count": 1,
   "id": "40263756",
   "metadata": {},
   "outputs": [],
   "source": [
    "from albumentations import HorizontalFlip, RandomSizedCrop, Compose, OneOf, Resize, ColorJitter, Affine, VerticalFlip"
   ]
  },
  {
   "cell_type": "code",
   "execution_count": 2,
   "id": "12320c28",
   "metadata": {},
   "outputs": [],
   "source": [
    "import os\n",
    "import math\n",
    "import numpy as np\n",
    "import tensorflow as tf\n",
    "\n",
    "from PIL import Image\n",
    "import matplotlib.pyplot as plt\n",
    "from skimage.io import imread\n",
    "from skimage.transform import resize\n",
    "#from glob import glob\n",
    "import glob"
   ]
  },
  {
   "cell_type": "code",
   "execution_count": 3,
   "id": "7a2c4fd8",
   "metadata": {},
   "outputs": [],
   "source": [
    "from sklearn.model_selection import train_test_split\n",
    "from sklearn.metrics import jaccard_score, precision_score, recall_score, accuracy_score, f1_score"
   ]
  },
  {
   "cell_type": "code",
   "execution_count": 4,
   "id": "c99e1e24",
   "metadata": {},
   "outputs": [],
   "source": [
    "from datetime import datetime"
   ]
  },
  {
   "cell_type": "code",
   "execution_count": 5,
   "id": "63907480",
   "metadata": {},
   "outputs": [],
   "source": [
    "from keras.layers import BatchNormalizationV2, add\n",
    "from keras.layers import Conv2D, UpSampling2D\n",
    "from keras.layers import add\n",
    "from keras.models import Model"
   ]
  },
  {
   "cell_type": "code",
   "execution_count": 6,
   "id": "33d16d97",
   "metadata": {},
   "outputs": [],
   "source": [
    "import keras.backend as K\n",
    "import tensorflow as tf\n",
    "\n",
    "\n",
    "def dice_metric_loss(ground_truth, predictions, smooth=1e-6):\n",
    "    ground_truth = K.cast(ground_truth, tf.float32)\n",
    "    predictions = K.cast(predictions, tf.float32)\n",
    "    ground_truth = K.flatten(ground_truth)\n",
    "    predictions = K.flatten(predictions)\n",
    "    intersection = K.sum(predictions * ground_truth)\n",
    "    union = K.sum(predictions) + K.sum(ground_truth)\n",
    "\n",
    "    dice = (2. * intersection + smooth) / (union + smooth)\n",
    "\n",
    "    return 1 - dice"
   ]
  },
  {
   "cell_type": "code",
   "execution_count": 7,
   "id": "2af8af2c",
   "metadata": {},
   "outputs": [],
   "source": [
    "from tqdm import tqdm"
   ]
  },
  {
   "cell_type": "code",
   "execution_count": 8,
   "id": "20980c07",
   "metadata": {},
   "outputs": [],
   "source": [
    "def load_data(img_height, img_width, images_to_be_loaded, extension, img_path):\n",
    "    IMAGES_PATH = img_path\n",
    "\n",
    "    if extension == 'png':\n",
    "        train_ids = glob.glob(IMAGES_PATH + \"*.png\")\n",
    "\n",
    "    if extension == 'bmp':\n",
    "        train_ids = glob.glob(IMAGES_PATH + \"*.bmp\")\n",
    "\n",
    "    if images_to_be_loaded == -1:\n",
    "        images_to_be_loaded = len(train_ids)\n",
    "\n",
    "    X_train = np.zeros((images_to_be_loaded, img_height, img_width, 3), dtype=np.float32)\n",
    "    Y_train = np.zeros((images_to_be_loaded, img_height, img_width), dtype=np.uint8)\n",
    "\n",
    "    print('Resizing training images and masks: ' + str(images_to_be_loaded))\n",
    "    for n, id_ in tqdm(enumerate(train_ids)):\n",
    "        if n == images_to_be_loaded:\n",
    "            break\n",
    "\n",
    "        image_path = id_\n",
    "        mask_path = image_path.replace(\"images\", \"labels\")\n",
    "\n",
    "        image = imread(image_path)\n",
    "        mask_ = imread(mask_path)\n",
    "\n",
    "        mask = np.zeros((img_height, img_width), dtype=np.bool_)\n",
    "\n",
    "        pillow_image = Image.fromarray(image)\n",
    "\n",
    "        pillow_image = pillow_image.resize((img_height, img_width))\n",
    "        image = np.array(pillow_image)\n",
    "\n",
    "        X_train[n] = image / 255\n",
    "\n",
    "        pillow_mask = Image.fromarray(mask_)\n",
    "        pillow_mask = pillow_mask.resize((img_height, img_width), resample=Image.LANCZOS)\n",
    "        mask_ = np.array(pillow_mask)\n",
    "\n",
    "        for i in range(img_height):\n",
    "            for j in range(img_width):\n",
    "                if (mask_[i, j] >= 127).all():\n",
    "                    mask[i, j] = 1\n",
    "\n",
    "        Y_train[n] = mask\n",
    "\n",
    "    Y_train = np.expand_dims(Y_train, axis=-1)\n",
    "\n",
    "    return X_train, Y_train"
   ]
  },
  {
   "cell_type": "code",
   "execution_count": 9,
   "id": "92fb436f",
   "metadata": {
    "scrolled": false
   },
   "outputs": [
    {
     "name": "stdout",
     "output_type": "stream",
     "text": [
      "Resizing training images and masks: 612\n"
     ]
    },
    {
     "name": "stderr",
     "output_type": "stream",
     "text": [
      "612it [03:47,  2.69it/s]\n"
     ]
    }
   ],
   "source": [
    "X, Y = load_data(352, 352, -1, 'png', './Polyp_segmentation/train/PNG/images/')"
   ]
  },
  {
   "cell_type": "code",
   "execution_count": 10,
   "id": "8dc95cb8",
   "metadata": {
    "scrolled": true
   },
   "outputs": [
    {
     "name": "stdout",
     "output_type": "stream",
     "text": [
      "Resizing training images and masks: 300\n"
     ]
    },
    {
     "name": "stderr",
     "output_type": "stream",
     "text": [
      "300it [02:29,  2.00it/s]\n"
     ]
    }
   ],
   "source": [
    "X_test, Y_test = load_data(352, 352, -1, 'bmp', './Polyp_segmentation/test/images/')"
   ]
  },
  {
   "cell_type": "code",
   "execution_count": 11,
   "id": "39c94a3e",
   "metadata": {},
   "outputs": [],
   "source": [
    "# x_train, x_test, y_train, y_test = train_test_split(X, Y, test_size=0.1, shuffle= True, random_state = seed_value)\n",
    "# x_train, x_valid, y_train, y_valid = train_test_split(x_train, y_train, test_size=0.111, shuffle= True, random_state = seed_value)"
   ]
  },
  {
   "cell_type": "code",
   "execution_count": 12,
   "id": "d2420dce",
   "metadata": {},
   "outputs": [],
   "source": [
    "x_train, x_valid, y_train, y_valid = train_test_split(X, Y, test_size=0.1, shuffle= True, random_state = 212)"
   ]
  },
  {
   "cell_type": "code",
   "execution_count": 13,
   "id": "105b555f",
   "metadata": {},
   "outputs": [],
   "source": [
    "kernel_initializer = 'he_uniform'\n",
    "interpolation = \"nearest\"\n",
    "\n",
    "def conv_block_2D(x, filters, block_type, repeat=1, dilation_rate=1, size=3, padding='same'):\n",
    "    result = x\n",
    "\n",
    "    for i in range(0, repeat):\n",
    "\n",
    "        if block_type == 'separated':\n",
    "            result = separated_conv2D_block(result, filters, size=size, padding=padding)\n",
    "        elif block_type == 'duckv2':\n",
    "            result = duckv2_conv2D_block(result, filters, size=size)\n",
    "        elif block_type == 'midscope':\n",
    "            result = midscope_conv2D_block(result, filters)\n",
    "        elif block_type == 'widescope':\n",
    "            result = widescope_conv2D_block(result, filters)\n",
    "        elif block_type == 'resnet':\n",
    "            result = resnet_conv2D_block(result, filters, dilation_rate)\n",
    "        elif block_type == 'conv':\n",
    "            result = Conv2D(filters, (size, size),\n",
    "                            activation='relu', kernel_initializer=kernel_initializer, padding=padding)(result)\n",
    "        elif block_type == 'double_convolution':\n",
    "            result = double_convolution_with_batch_normalization(result, filters, dilation_rate)\n",
    "\n",
    "        else:\n",
    "            return None\n",
    "\n",
    "    return result"
   ]
  },
  {
   "cell_type": "code",
   "execution_count": 14,
   "id": "41a36a86",
   "metadata": {},
   "outputs": [],
   "source": [
    "def duckv2_conv2D_block(x, filters, size):\n",
    "    x = BatchNormalizationV2(axis=-1)(x)\n",
    "    x1 = widescope_conv2D_block(x, filters)\n",
    "\n",
    "    x2 = midscope_conv2D_block(x, filters)\n",
    "\n",
    "    x3 = conv_block_2D(x, filters, 'resnet', repeat=1)\n",
    "\n",
    "    x4 = conv_block_2D(x, filters, 'resnet', repeat=2)\n",
    "\n",
    "    x5 = conv_block_2D(x, filters, 'resnet', repeat=3)\n",
    "\n",
    "    x6 = separated_conv2D_block(x, filters, size=6, padding='same')\n",
    "\n",
    "    x = add([x1, x2, x3, x4, x5, x6])\n",
    "\n",
    "    x = BatchNormalizationV2(axis=-1)(x)\n",
    "\n",
    "    return x"
   ]
  },
  {
   "cell_type": "code",
   "execution_count": 15,
   "id": "a3922f4f",
   "metadata": {},
   "outputs": [],
   "source": [
    "def separated_conv2D_block(x, filters, size=3, padding='same'):\n",
    "    x = Conv2D(filters, (1, size), activation='relu', kernel_initializer=kernel_initializer, padding=padding)(x)\n",
    "\n",
    "    x = BatchNormalizationV2(axis=-1)(x)\n",
    "\n",
    "    x = Conv2D(filters, (size, 1), activation='relu', kernel_initializer=kernel_initializer, padding=padding)(x)\n",
    "\n",
    "    x = BatchNormalizationV2(axis=-1)(x)\n",
    "\n",
    "    return x"
   ]
  },
  {
   "cell_type": "code",
   "execution_count": 16,
   "id": "d2d1a746",
   "metadata": {},
   "outputs": [],
   "source": [
    "def midscope_conv2D_block(x, filters):\n",
    "    x = Conv2D(filters, (3, 3), activation='relu', kernel_initializer=kernel_initializer, padding='same',\n",
    "               dilation_rate=1)(x)\n",
    "\n",
    "    x = BatchNormalizationV2(axis=-1)(x)\n",
    "\n",
    "    x = Conv2D(filters, (3, 3), activation='relu', kernel_initializer=kernel_initializer, padding='same',\n",
    "               dilation_rate=2)(x)\n",
    "\n",
    "    x = BatchNormalizationV2(axis=-1)(x)\n",
    "\n",
    "    return x"
   ]
  },
  {
   "cell_type": "code",
   "execution_count": 17,
   "id": "38d047e9",
   "metadata": {},
   "outputs": [],
   "source": [
    "def widescope_conv2D_block(x, filters):\n",
    "    x = Conv2D(filters, (3, 3), activation='relu', kernel_initializer=kernel_initializer, padding='same',\n",
    "               dilation_rate=1)(x)\n",
    "\n",
    "    x = BatchNormalizationV2(axis=-1)(x)\n",
    "\n",
    "    x = Conv2D(filters, (3, 3), activation='relu', kernel_initializer=kernel_initializer, padding='same',\n",
    "               dilation_rate=2)(x)\n",
    "\n",
    "    x = BatchNormalizationV2(axis=-1)(x)\n",
    "\n",
    "    x = Conv2D(filters, (3, 3), activation='relu', kernel_initializer=kernel_initializer, padding='same',\n",
    "               dilation_rate=3)(x)\n",
    "\n",
    "    x = BatchNormalizationV2(axis=-1)(x)\n",
    "\n",
    "    return x"
   ]
  },
  {
   "cell_type": "code",
   "execution_count": 18,
   "id": "0cd006f9",
   "metadata": {},
   "outputs": [],
   "source": [
    "def resnet_conv2D_block(x, filters, dilation_rate=1):\n",
    "    x1 = Conv2D(filters, (1, 1), activation='relu', kernel_initializer=kernel_initializer, padding='same',\n",
    "                dilation_rate=dilation_rate)(x)\n",
    "\n",
    "    x = Conv2D(filters, (3, 3), activation='relu', kernel_initializer=kernel_initializer, padding='same',\n",
    "               dilation_rate=dilation_rate)(x)\n",
    "    x = BatchNormalizationV2(axis=-1)(x)\n",
    "    x = Conv2D(filters, (3, 3), activation='relu', kernel_initializer=kernel_initializer, padding='same',\n",
    "               dilation_rate=dilation_rate)(x)\n",
    "    x = BatchNormalizationV2(axis=-1)(x)\n",
    "    x_final = add([x, x1])\n",
    "\n",
    "    x_final = BatchNormalizationV2(axis=-1)(x_final)\n",
    "\n",
    "    return x_final"
   ]
  },
  {
   "cell_type": "code",
   "execution_count": 19,
   "id": "20aeebce",
   "metadata": {},
   "outputs": [],
   "source": [
    "def double_convolution_with_batch_normalization(x, filters, dilation_rate=1):\n",
    "    x = Conv2D(filters, (3, 3), activation='relu', kernel_initializer=kernel_initializer, padding='same',\n",
    "               dilation_rate=dilation_rate)(x)\n",
    "    x = BatchNormalizationV2(axis=-1)(x)\n",
    "    x = Conv2D(filters, (3, 3), activation='relu', kernel_initializer=kernel_initializer, padding='same',\n",
    "               dilation_rate=dilation_rate)(x)\n",
    "    x = BatchNormalizationV2(axis=-1)(x)\n",
    "\n",
    "    return x"
   ]
  },
  {
   "cell_type": "code",
   "execution_count": 20,
   "id": "2792140c",
   "metadata": {},
   "outputs": [],
   "source": [
    "def create_model(img_height, img_width, input_chanels, out_classes, starting_filters):\n",
    "    input_layer = tf.keras.layers.Input((img_height, img_width, input_chanels))\n",
    "\n",
    "    print('Starting DUCK-Net')\n",
    "\n",
    "    p1 = Conv2D(starting_filters * 2, 2, strides=2, padding='same')(input_layer)\n",
    "    p2 = Conv2D(starting_filters * 4, 2, strides=2, padding='same')(p1)\n",
    "    p3 = Conv2D(starting_filters * 8, 2, strides=2, padding='same')(p2)\n",
    "    p4 = Conv2D(starting_filters * 16, 2, strides=2, padding='same')(p3)\n",
    "    p5 = Conv2D(starting_filters * 32, 2, strides=2, padding='same')(p4)\n",
    "\n",
    "    t0 = conv_block_2D(input_layer, starting_filters, 'duckv2', repeat=1)\n",
    "\n",
    "    l1i = Conv2D(starting_filters * 2, 2, strides=2, padding='same')(t0)\n",
    "    s1 = add([l1i, p1])\n",
    "    t1 = conv_block_2D(s1, starting_filters * 2, 'duckv2', repeat=1)\n",
    "\n",
    "    l2i = Conv2D(starting_filters * 4, 2, strides=2, padding='same')(t1)\n",
    "    s2 = add([l2i, p2])\n",
    "    t2 = conv_block_2D(s2, starting_filters * 4, 'duckv2', repeat=1)\n",
    "\n",
    "    l3i = Conv2D(starting_filters * 8, 2, strides=2, padding='same')(t2)\n",
    "    s3 = add([l3i, p3])\n",
    "    t3 = conv_block_2D(s3, starting_filters * 8, 'duckv2', repeat=1)\n",
    "\n",
    "    l4i = Conv2D(starting_filters * 16, 2, strides=2, padding='same')(t3)\n",
    "    s4 = add([l4i, p4])\n",
    "    t4 = conv_block_2D(s4, starting_filters * 16, 'duckv2', repeat=1)\n",
    "\n",
    "    l5i = Conv2D(starting_filters * 32, 2, strides=2, padding='same')(t4)\n",
    "    s5 = add([l5i, p5])\n",
    "    t51 = conv_block_2D(s5, starting_filters * 32, 'resnet', repeat=2)\n",
    "    t53 = conv_block_2D(t51, starting_filters * 16, 'resnet', repeat=2)\n",
    "\n",
    "    l5o = UpSampling2D((2, 2), interpolation=interpolation)(t53)\n",
    "    c4 = add([l5o, t4])\n",
    "    q4 = conv_block_2D(c4, starting_filters * 8, 'duckv2', repeat=1)\n",
    "\n",
    "    l4o = UpSampling2D((2, 2), interpolation=interpolation)(q4)\n",
    "    c3 = add([l4o, t3])\n",
    "    q3 = conv_block_2D(c3, starting_filters * 4, 'duckv2', repeat=1)\n",
    "\n",
    "    l3o = UpSampling2D((2, 2), interpolation=interpolation)(q3)\n",
    "    c2 = add([l3o, t2])\n",
    "    q6 = conv_block_2D(c2, starting_filters * 2, 'duckv2', repeat=1)\n",
    "\n",
    "    l2o = UpSampling2D((2, 2), interpolation=interpolation)(q6)\n",
    "    c1 = add([l2o, t1])\n",
    "    q1 = conv_block_2D(c1, starting_filters, 'duckv2', repeat=1)\n",
    "\n",
    "    l1o = UpSampling2D((2, 2), interpolation=interpolation)(q1)\n",
    "    c0 = add([l1o, t0])\n",
    "    z1 = conv_block_2D(c0, starting_filters, 'duckv2', repeat=1)\n",
    "\n",
    "    output = Conv2D(out_classes, (1, 1), activation='sigmoid')(z1)\n",
    "\n",
    "    model = Model(inputs=input_layer, outputs=output)\n",
    "\n",
    "    return model"
   ]
  },
  {
   "cell_type": "code",
   "execution_count": 21,
   "id": "345905b5",
   "metadata": {},
   "outputs": [
    {
     "name": "stdout",
     "output_type": "stream",
     "text": [
      "Starting DUCK-Net\n"
     ]
    }
   ],
   "source": [
    "model = create_model(img_height=352, img_width=352, input_chanels=3, out_classes=1, starting_filters=34)\n"
   ]
  },
  {
   "cell_type": "code",
   "execution_count": null,
   "id": "3e95b8c2",
   "metadata": {
    "scrolled": false
   },
   "outputs": [],
   "source": [
    "model.summary()"
   ]
  },
  {
   "cell_type": "code",
   "execution_count": 22,
   "id": "faf4cab3",
   "metadata": {},
   "outputs": [],
   "source": [
    "model.compile(optimizer=tf.keras.optimizers.RMSprop(learning_rate=1e-4), loss=dice_metric_loss)"
   ]
  },
  {
   "cell_type": "code",
   "execution_count": null,
   "id": "9547ca11",
   "metadata": {},
   "outputs": [],
   "source": [
    "model.run_eagerly = True"
   ]
  },
  {
   "cell_type": "code",
   "execution_count": 23,
   "id": "682baf1b",
   "metadata": {},
   "outputs": [],
   "source": [
    "EPOCHS = 100\n",
    "min_loss_for_saving = 0.18"
   ]
  },
  {
   "cell_type": "code",
   "execution_count": 24,
   "id": "3b34fd57",
   "metadata": {},
   "outputs": [],
   "source": [
    "from keras.callbacks import CSVLogger"
   ]
  },
  {
   "cell_type": "code",
   "execution_count": 25,
   "id": "e4a89367",
   "metadata": {},
   "outputs": [],
   "source": [
    "aug_train = Compose([\n",
    "    HorizontalFlip(),\n",
    "    VerticalFlip(),\n",
    "    ColorJitter(brightness=(0.6,1.6), contrast=0.2, saturation=0.1, hue=0.01, always_apply=True),\n",
    "    Affine(scale=(0.5,1.5), translate_percent=(-0.125,0.125), rotate=(-180,180), shear=(-22.5,22), always_apply=True),\n",
    "])\n",
    "\n",
    "def augment_images():\n",
    "    x_train_out = []\n",
    "    y_train_out = []\n",
    "\n",
    "    for i in range (len(x_train)):\n",
    "        ug = aug_train(image=x_train[i], mask=y_train[i])\n",
    "        x_train_out.append(ug['image'])  \n",
    "        y_train_out.append(ug['mask'])\n",
    "\n",
    "    return np.array(x_train_out), np.array(y_train_out)"
   ]
  },
  {
   "cell_type": "code",
   "execution_count": 26,
   "id": "fa50db78",
   "metadata": {},
   "outputs": [],
   "source": [
    "progress_path = 'ProgressFull/' + 'ducknet' + '_progress_csv_' + str(datetime.now()) + '.csv'\n",
    "progressfull_path = 'ProgressFull/' + 'ducknet' + '_progress_'  + str(datetime.now()) + '.txt'\n",
    "plot_path = 'ProgressFull/' + 'ducknet' + '_progress_plot_'  + str(datetime.now()) + '.png'\n",
    "model_path = 'ModelSaveTensorFlow/' + str(datetime.now()) + '.h5'\n",
    "\n",
    "EPOCHS = 150\n"
   ]
  },
  {
   "cell_type": "code",
   "execution_count": 27,
   "id": "b285c7ae",
   "metadata": {},
   "outputs": [],
   "source": [
    "import gc\n",
    "import pickle"
   ]
  },
  {
   "cell_type": "code",
   "execution_count": 76,
   "id": "f6d3ddb1",
   "metadata": {},
   "outputs": [],
   "source": [
    "model = tf.keras.models.load_model('ModelSaveTensorFlow/' + '2023-07-10 05:43:20.096706.h5', custom_objects={'dice_metric_loss':dice_metric_loss})"
   ]
  },
  {
   "cell_type": "code",
   "execution_count": null,
   "id": "8d5cc195",
   "metadata": {},
   "outputs": [],
   "source": [
    "model = tf.keras.models.load_model('ModelSaveTensorFlow/', custom_objects={'dice_metric_loss':dice_metric_loss})"
   ]
  },
  {
   "cell_type": "code",
   "execution_count": 29,
   "id": "dbcf7efe",
   "metadata": {},
   "outputs": [
    {
     "name": "stdout",
     "output_type": "stream",
     "text": [
      "Training, epoch 0\n",
      "Learning Rate: 0.0001\n",
      "550/550 [==============================] - 520s 791ms/step - loss: 0.1311 - val_loss: 0.1913\n",
      "Loss Validation: 0.16547924\n",
      "Loss Test: 0.3033542\n",
      "Saved model with val_loss:  0.16547924\n"
     ]
    },
    {
     "name": "stderr",
     "output_type": "stream",
     "text": [
      "/opt/conda/lib/python3.9/site-packages/keras/utils/generic_utils.py:494: CustomMaskWarning: Custom mask layers require a config and must override get_config. When loading, the custom mask layer must be passed to the custom_objects argument.\n",
      "  warnings.warn('Custom mask layers require a config and must override '\n"
     ]
    },
    {
     "name": "stdout",
     "output_type": "stream",
     "text": [
      "Training, epoch 1\n",
      "Learning Rate: 0.0001\n",
      "550/550 [==============================] - 432s 785ms/step - loss: 0.1205 - val_loss: 0.2039\n",
      "Loss Validation: 0.1681475\n",
      "Loss Test: 0.25719\n",
      "Training, epoch 2\n",
      "Learning Rate: 0.0001\n",
      "550/550 [==============================] - 432s 785ms/step - loss: 0.1210 - val_loss: 0.2208\n",
      "Loss Validation: 0.20049155\n",
      "Loss Test: 0.2645064\n",
      "Training, epoch 3\n",
      "Learning Rate: 0.0001\n",
      "550/550 [==============================] - 432s 785ms/step - loss: 0.1262 - val_loss: 0.2205\n",
      "Loss Validation: 0.19092613\n",
      "Loss Test: 0.26138175\n",
      "Training, epoch 4\n",
      "Learning Rate: 0.0001\n",
      "550/550 [==============================] - 432s 786ms/step - loss: 0.1187 - val_loss: 0.2195\n",
      "Loss Validation: 0.1816178\n",
      "Loss Test: 0.30844456\n",
      "Training, epoch 5\n",
      "Learning Rate: 0.0001\n",
      "550/550 [==============================] - 432s 785ms/step - loss: 0.1143 - val_loss: 0.1917\n",
      "Loss Validation: 0.19538277\n",
      "Loss Test: 0.34077358\n",
      "Training, epoch 6\n",
      "Learning Rate: 0.0001\n",
      "550/550 [==============================] - 432s 785ms/step - loss: 0.1179 - val_loss: 0.2327\n",
      "Loss Validation: 0.24781024\n",
      "Loss Test: 0.22839284\n",
      "Training, epoch 7\n",
      "Learning Rate: 0.0001\n",
      "550/550 [==============================] - 432s 785ms/step - loss: 0.1145 - val_loss: 0.1988\n",
      "Loss Validation: 0.16219437\n",
      "Loss Test: 0.2897719\n",
      "Saved model with val_loss:  0.16219437\n",
      "Training, epoch 8\n",
      "Learning Rate: 0.0001\n"
     ]
    },
    {
     "ename": "KeyboardInterrupt",
     "evalue": "",
     "output_type": "error",
     "traceback": [
      "\u001b[0;31m---------------------------------------------------------------------------\u001b[0m",
      "\u001b[0;31mKeyboardInterrupt\u001b[0m                         Traceback (most recent call last)",
      "\u001b[0;32m/tmp/ipykernel_4845/2938961760.py\u001b[0m in \u001b[0;36m<module>\u001b[0;34m\u001b[0m\n\u001b[1;32m     10\u001b[0m     \u001b[0mstep\u001b[0m \u001b[0;34m+=\u001b[0m \u001b[0;36m1\u001b[0m\u001b[0;34m\u001b[0m\u001b[0;34m\u001b[0m\u001b[0m\n\u001b[1;32m     11\u001b[0m \u001b[0;34m\u001b[0m\u001b[0m\n\u001b[0;32m---> 12\u001b[0;31m     \u001b[0mimage_augmented\u001b[0m\u001b[0;34m,\u001b[0m \u001b[0mmask_augmented\u001b[0m \u001b[0;34m=\u001b[0m \u001b[0maugment_images\u001b[0m\u001b[0;34m(\u001b[0m\u001b[0;34m)\u001b[0m\u001b[0;34m\u001b[0m\u001b[0;34m\u001b[0m\u001b[0m\n\u001b[0m\u001b[1;32m     13\u001b[0m \u001b[0;34m\u001b[0m\u001b[0m\n\u001b[1;32m     14\u001b[0m     \u001b[0mcsv_logger\u001b[0m \u001b[0;34m=\u001b[0m \u001b[0mCSVLogger\u001b[0m\u001b[0;34m(\u001b[0m\u001b[0mprogress_path\u001b[0m\u001b[0;34m,\u001b[0m \u001b[0mappend\u001b[0m\u001b[0;34m=\u001b[0m\u001b[0;32mTrue\u001b[0m\u001b[0;34m,\u001b[0m \u001b[0mseparator\u001b[0m\u001b[0;34m=\u001b[0m\u001b[0;34m';'\u001b[0m\u001b[0;34m)\u001b[0m\u001b[0;34m\u001b[0m\u001b[0;34m\u001b[0m\u001b[0m\n",
      "\u001b[0;32m/tmp/ipykernel_4845/3676798769.py\u001b[0m in \u001b[0;36maugment_images\u001b[0;34m()\u001b[0m\n\u001b[1;32m     11\u001b[0m \u001b[0;34m\u001b[0m\u001b[0m\n\u001b[1;32m     12\u001b[0m     \u001b[0;32mfor\u001b[0m \u001b[0mi\u001b[0m \u001b[0;32min\u001b[0m \u001b[0mrange\u001b[0m \u001b[0;34m(\u001b[0m\u001b[0mlen\u001b[0m\u001b[0;34m(\u001b[0m\u001b[0mx_train\u001b[0m\u001b[0;34m)\u001b[0m\u001b[0;34m)\u001b[0m\u001b[0;34m:\u001b[0m\u001b[0;34m\u001b[0m\u001b[0;34m\u001b[0m\u001b[0m\n\u001b[0;32m---> 13\u001b[0;31m         \u001b[0mug\u001b[0m \u001b[0;34m=\u001b[0m \u001b[0maug_train\u001b[0m\u001b[0;34m(\u001b[0m\u001b[0mimage\u001b[0m\u001b[0;34m=\u001b[0m\u001b[0mx_train\u001b[0m\u001b[0;34m[\u001b[0m\u001b[0mi\u001b[0m\u001b[0;34m]\u001b[0m\u001b[0;34m,\u001b[0m \u001b[0mmask\u001b[0m\u001b[0;34m=\u001b[0m\u001b[0my_train\u001b[0m\u001b[0;34m[\u001b[0m\u001b[0mi\u001b[0m\u001b[0;34m]\u001b[0m\u001b[0;34m)\u001b[0m\u001b[0;34m\u001b[0m\u001b[0;34m\u001b[0m\u001b[0m\n\u001b[0m\u001b[1;32m     14\u001b[0m         \u001b[0mx_train_out\u001b[0m\u001b[0;34m.\u001b[0m\u001b[0mappend\u001b[0m\u001b[0;34m(\u001b[0m\u001b[0mug\u001b[0m\u001b[0;34m[\u001b[0m\u001b[0;34m'image'\u001b[0m\u001b[0;34m]\u001b[0m\u001b[0;34m)\u001b[0m\u001b[0;34m\u001b[0m\u001b[0;34m\u001b[0m\u001b[0m\n\u001b[1;32m     15\u001b[0m         \u001b[0my_train_out\u001b[0m\u001b[0;34m.\u001b[0m\u001b[0mappend\u001b[0m\u001b[0;34m(\u001b[0m\u001b[0mug\u001b[0m\u001b[0;34m[\u001b[0m\u001b[0;34m'mask'\u001b[0m\u001b[0;34m]\u001b[0m\u001b[0;34m)\u001b[0m\u001b[0;34m\u001b[0m\u001b[0;34m\u001b[0m\u001b[0m\n",
      "\u001b[0;32m/opt/conda/lib/python3.9/site-packages/albumentations/core/composition.py\u001b[0m in \u001b[0;36m__call__\u001b[0;34m(self, force_apply, *args, **data)\u001b[0m\n\u001b[1;32m    208\u001b[0m \u001b[0;34m\u001b[0m\u001b[0m\n\u001b[1;32m    209\u001b[0m         \u001b[0;32mfor\u001b[0m \u001b[0midx\u001b[0m\u001b[0;34m,\u001b[0m \u001b[0mt\u001b[0m \u001b[0;32min\u001b[0m \u001b[0menumerate\u001b[0m\u001b[0;34m(\u001b[0m\u001b[0mtransforms\u001b[0m\u001b[0;34m)\u001b[0m\u001b[0;34m:\u001b[0m\u001b[0;34m\u001b[0m\u001b[0;34m\u001b[0m\u001b[0m\n\u001b[0;32m--> 210\u001b[0;31m             \u001b[0mdata\u001b[0m \u001b[0;34m=\u001b[0m \u001b[0mt\u001b[0m\u001b[0;34m(\u001b[0m\u001b[0mforce_apply\u001b[0m\u001b[0;34m=\u001b[0m\u001b[0mforce_apply\u001b[0m\u001b[0;34m,\u001b[0m \u001b[0;34m**\u001b[0m\u001b[0mdata\u001b[0m\u001b[0;34m)\u001b[0m\u001b[0;34m\u001b[0m\u001b[0;34m\u001b[0m\u001b[0m\n\u001b[0m\u001b[1;32m    211\u001b[0m \u001b[0;34m\u001b[0m\u001b[0m\n\u001b[1;32m    212\u001b[0m             \u001b[0;32mif\u001b[0m \u001b[0mcheck_each_transform\u001b[0m\u001b[0;34m:\u001b[0m\u001b[0;34m\u001b[0m\u001b[0;34m\u001b[0m\u001b[0m\n",
      "\u001b[0;32m/opt/conda/lib/python3.9/site-packages/albumentations/core/transforms_interface.py\u001b[0m in \u001b[0;36m__call__\u001b[0;34m(self, force_apply, *args, **kwargs)\u001b[0m\n\u001b[1;32m     95\u001b[0m                     )\n\u001b[1;32m     96\u001b[0m                 \u001b[0mkwargs\u001b[0m\u001b[0;34m[\u001b[0m\u001b[0mself\u001b[0m\u001b[0;34m.\u001b[0m\u001b[0msave_key\u001b[0m\u001b[0;34m]\u001b[0m\u001b[0;34m[\u001b[0m\u001b[0mid\u001b[0m\u001b[0;34m(\u001b[0m\u001b[0mself\u001b[0m\u001b[0;34m)\u001b[0m\u001b[0;34m]\u001b[0m \u001b[0;34m=\u001b[0m \u001b[0mdeepcopy\u001b[0m\u001b[0;34m(\u001b[0m\u001b[0mparams\u001b[0m\u001b[0;34m)\u001b[0m\u001b[0;34m\u001b[0m\u001b[0;34m\u001b[0m\u001b[0m\n\u001b[0;32m---> 97\u001b[0;31m             \u001b[0;32mreturn\u001b[0m \u001b[0mself\u001b[0m\u001b[0;34m.\u001b[0m\u001b[0mapply_with_params\u001b[0m\u001b[0;34m(\u001b[0m\u001b[0mparams\u001b[0m\u001b[0;34m,\u001b[0m \u001b[0;34m**\u001b[0m\u001b[0mkwargs\u001b[0m\u001b[0;34m)\u001b[0m\u001b[0;34m\u001b[0m\u001b[0;34m\u001b[0m\u001b[0m\n\u001b[0m\u001b[1;32m     98\u001b[0m \u001b[0;34m\u001b[0m\u001b[0m\n\u001b[1;32m     99\u001b[0m         \u001b[0;32mreturn\u001b[0m \u001b[0mkwargs\u001b[0m\u001b[0;34m\u001b[0m\u001b[0;34m\u001b[0m\u001b[0m\n",
      "\u001b[0;32m/opt/conda/lib/python3.9/site-packages/albumentations/core/transforms_interface.py\u001b[0m in \u001b[0;36mapply_with_params\u001b[0;34m(self, params, force_apply, **kwargs)\u001b[0m\n\u001b[1;32m    110\u001b[0m                 \u001b[0mtarget_function\u001b[0m \u001b[0;34m=\u001b[0m \u001b[0mself\u001b[0m\u001b[0;34m.\u001b[0m\u001b[0m_get_target_function\u001b[0m\u001b[0;34m(\u001b[0m\u001b[0mkey\u001b[0m\u001b[0;34m)\u001b[0m\u001b[0;34m\u001b[0m\u001b[0;34m\u001b[0m\u001b[0m\n\u001b[1;32m    111\u001b[0m                 \u001b[0mtarget_dependencies\u001b[0m \u001b[0;34m=\u001b[0m \u001b[0;34m{\u001b[0m\u001b[0mk\u001b[0m\u001b[0;34m:\u001b[0m \u001b[0mkwargs\u001b[0m\u001b[0;34m[\u001b[0m\u001b[0mk\u001b[0m\u001b[0;34m]\u001b[0m \u001b[0;32mfor\u001b[0m \u001b[0mk\u001b[0m \u001b[0;32min\u001b[0m \u001b[0mself\u001b[0m\u001b[0;34m.\u001b[0m\u001b[0mtarget_dependence\u001b[0m\u001b[0;34m.\u001b[0m\u001b[0mget\u001b[0m\u001b[0;34m(\u001b[0m\u001b[0mkey\u001b[0m\u001b[0;34m,\u001b[0m \u001b[0;34m[\u001b[0m\u001b[0;34m]\u001b[0m\u001b[0;34m)\u001b[0m\u001b[0;34m}\u001b[0m\u001b[0;34m\u001b[0m\u001b[0;34m\u001b[0m\u001b[0m\n\u001b[0;32m--> 112\u001b[0;31m                 \u001b[0mres\u001b[0m\u001b[0;34m[\u001b[0m\u001b[0mkey\u001b[0m\u001b[0;34m]\u001b[0m \u001b[0;34m=\u001b[0m \u001b[0mtarget_function\u001b[0m\u001b[0;34m(\u001b[0m\u001b[0marg\u001b[0m\u001b[0;34m,\u001b[0m \u001b[0;34m**\u001b[0m\u001b[0mdict\u001b[0m\u001b[0;34m(\u001b[0m\u001b[0mparams\u001b[0m\u001b[0;34m,\u001b[0m \u001b[0;34m**\u001b[0m\u001b[0mtarget_dependencies\u001b[0m\u001b[0;34m)\u001b[0m\u001b[0;34m)\u001b[0m\u001b[0;34m\u001b[0m\u001b[0;34m\u001b[0m\u001b[0m\n\u001b[0m\u001b[1;32m    113\u001b[0m             \u001b[0;32melse\u001b[0m\u001b[0;34m:\u001b[0m\u001b[0;34m\u001b[0m\u001b[0;34m\u001b[0m\u001b[0m\n\u001b[1;32m    114\u001b[0m                 \u001b[0mres\u001b[0m\u001b[0;34m[\u001b[0m\u001b[0mkey\u001b[0m\u001b[0;34m]\u001b[0m \u001b[0;34m=\u001b[0m \u001b[0;32mNone\u001b[0m\u001b[0;34m\u001b[0m\u001b[0;34m\u001b[0m\u001b[0m\n",
      "\u001b[0;32m/opt/conda/lib/python3.9/site-packages/albumentations/augmentations/transforms.py\u001b[0m in \u001b[0;36mapply\u001b[0;34m(self, img, transforms, **params)\u001b[0m\n\u001b[1;32m   2969\u001b[0m \u001b[0;34m\u001b[0m\u001b[0m\n\u001b[1;32m   2970\u001b[0m         \u001b[0;32mfor\u001b[0m \u001b[0mtransform\u001b[0m \u001b[0;32min\u001b[0m \u001b[0mtransforms\u001b[0m\u001b[0;34m:\u001b[0m\u001b[0;34m\u001b[0m\u001b[0;34m\u001b[0m\u001b[0m\n\u001b[0;32m-> 2971\u001b[0;31m             \u001b[0mimg\u001b[0m \u001b[0;34m=\u001b[0m \u001b[0mtransform\u001b[0m\u001b[0;34m(\u001b[0m\u001b[0mimg\u001b[0m\u001b[0;34m)\u001b[0m\u001b[0;34m\u001b[0m\u001b[0;34m\u001b[0m\u001b[0m\n\u001b[0m\u001b[1;32m   2972\u001b[0m         \u001b[0;32mreturn\u001b[0m \u001b[0mimg\u001b[0m\u001b[0;34m\u001b[0m\u001b[0;34m\u001b[0m\u001b[0m\n\u001b[1;32m   2973\u001b[0m \u001b[0;34m\u001b[0m\u001b[0m\n",
      "\u001b[0;32m/opt/conda/lib/python3.9/site-packages/albumentations/augmentations/transforms.py\u001b[0m in \u001b[0;36m<lambda>\u001b[0;34m(x)\u001b[0m\n\u001b[1;32m   2956\u001b[0m         transforms = [\n\u001b[1;32m   2957\u001b[0m             \u001b[0;32mlambda\u001b[0m \u001b[0mx\u001b[0m\u001b[0;34m:\u001b[0m \u001b[0mF\u001b[0m\u001b[0;34m.\u001b[0m\u001b[0madjust_brightness_torchvision\u001b[0m\u001b[0;34m(\u001b[0m\u001b[0mx\u001b[0m\u001b[0;34m,\u001b[0m \u001b[0mbrightness\u001b[0m\u001b[0;34m)\u001b[0m\u001b[0;34m,\u001b[0m\u001b[0;34m\u001b[0m\u001b[0;34m\u001b[0m\u001b[0m\n\u001b[0;32m-> 2958\u001b[0;31m             \u001b[0;32mlambda\u001b[0m \u001b[0mx\u001b[0m\u001b[0;34m:\u001b[0m \u001b[0mF\u001b[0m\u001b[0;34m.\u001b[0m\u001b[0madjust_contrast_torchvision\u001b[0m\u001b[0;34m(\u001b[0m\u001b[0mx\u001b[0m\u001b[0;34m,\u001b[0m \u001b[0mcontrast\u001b[0m\u001b[0;34m)\u001b[0m\u001b[0;34m,\u001b[0m\u001b[0;34m\u001b[0m\u001b[0;34m\u001b[0m\u001b[0m\n\u001b[0m\u001b[1;32m   2959\u001b[0m             \u001b[0;32mlambda\u001b[0m \u001b[0mx\u001b[0m\u001b[0;34m:\u001b[0m \u001b[0mF\u001b[0m\u001b[0;34m.\u001b[0m\u001b[0madjust_saturation_torchvision\u001b[0m\u001b[0;34m(\u001b[0m\u001b[0mx\u001b[0m\u001b[0;34m,\u001b[0m \u001b[0msaturation\u001b[0m\u001b[0;34m)\u001b[0m\u001b[0;34m,\u001b[0m\u001b[0;34m\u001b[0m\u001b[0;34m\u001b[0m\u001b[0m\n\u001b[1;32m   2960\u001b[0m             \u001b[0;32mlambda\u001b[0m \u001b[0mx\u001b[0m\u001b[0;34m:\u001b[0m \u001b[0mF\u001b[0m\u001b[0;34m.\u001b[0m\u001b[0madjust_hue_torchvision\u001b[0m\u001b[0;34m(\u001b[0m\u001b[0mx\u001b[0m\u001b[0;34m,\u001b[0m \u001b[0mhue\u001b[0m\u001b[0;34m)\u001b[0m\u001b[0;34m,\u001b[0m\u001b[0;34m\u001b[0m\u001b[0;34m\u001b[0m\u001b[0m\n",
      "\u001b[0;32m/opt/conda/lib/python3.9/site-packages/albumentations/augmentations/functional.py\u001b[0m in \u001b[0;36mwrapped_function\u001b[0;34m(img, *args, **kwargs)\u001b[0m\n\u001b[1;32m     52\u001b[0m     \u001b[0;32mdef\u001b[0m \u001b[0mwrapped_function\u001b[0m\u001b[0;34m(\u001b[0m\u001b[0mimg\u001b[0m\u001b[0;34m,\u001b[0m \u001b[0;34m*\u001b[0m\u001b[0margs\u001b[0m\u001b[0;34m,\u001b[0m \u001b[0;34m**\u001b[0m\u001b[0mkwargs\u001b[0m\u001b[0;34m)\u001b[0m\u001b[0;34m:\u001b[0m\u001b[0;34m\u001b[0m\u001b[0;34m\u001b[0m\u001b[0m\n\u001b[1;32m     53\u001b[0m         \u001b[0mshape\u001b[0m \u001b[0;34m=\u001b[0m \u001b[0mimg\u001b[0m\u001b[0;34m.\u001b[0m\u001b[0mshape\u001b[0m\u001b[0;34m\u001b[0m\u001b[0;34m\u001b[0m\u001b[0m\n\u001b[0;32m---> 54\u001b[0;31m         \u001b[0mresult\u001b[0m \u001b[0;34m=\u001b[0m \u001b[0mfunc\u001b[0m\u001b[0;34m(\u001b[0m\u001b[0mimg\u001b[0m\u001b[0;34m,\u001b[0m \u001b[0;34m*\u001b[0m\u001b[0margs\u001b[0m\u001b[0;34m,\u001b[0m \u001b[0;34m**\u001b[0m\u001b[0mkwargs\u001b[0m\u001b[0;34m)\u001b[0m\u001b[0;34m\u001b[0m\u001b[0;34m\u001b[0m\u001b[0m\n\u001b[0m\u001b[1;32m     55\u001b[0m         \u001b[0mresult\u001b[0m \u001b[0;34m=\u001b[0m \u001b[0mresult\u001b[0m\u001b[0;34m.\u001b[0m\u001b[0mreshape\u001b[0m\u001b[0;34m(\u001b[0m\u001b[0mshape\u001b[0m\u001b[0;34m)\u001b[0m\u001b[0;34m\u001b[0m\u001b[0;34m\u001b[0m\u001b[0m\n\u001b[1;32m     56\u001b[0m         \u001b[0;32mreturn\u001b[0m \u001b[0mresult\u001b[0m\u001b[0;34m\u001b[0m\u001b[0;34m\u001b[0m\u001b[0m\n",
      "\u001b[0;32m/opt/conda/lib/python3.9/site-packages/albumentations/augmentations/functional.py\u001b[0m in \u001b[0;36madjust_contrast_torchvision\u001b[0;34m(img, factor)\u001b[0m\n\u001b[1;32m   1675\u001b[0m         \u001b[0;32mreturn\u001b[0m \u001b[0m_adjust_contrast_torchvision_uint8\u001b[0m\u001b[0;34m(\u001b[0m\u001b[0mimg\u001b[0m\u001b[0;34m,\u001b[0m \u001b[0mfactor\u001b[0m\u001b[0;34m,\u001b[0m \u001b[0mmean\u001b[0m\u001b[0;34m)\u001b[0m\u001b[0;34m\u001b[0m\u001b[0;34m\u001b[0m\u001b[0m\n\u001b[1;32m   1676\u001b[0m \u001b[0;34m\u001b[0m\u001b[0m\n\u001b[0;32m-> 1677\u001b[0;31m     return clip(\n\u001b[0m\u001b[1;32m   1678\u001b[0m         \u001b[0mimg\u001b[0m\u001b[0;34m.\u001b[0m\u001b[0mastype\u001b[0m\u001b[0;34m(\u001b[0m\u001b[0mnp\u001b[0m\u001b[0;34m.\u001b[0m\u001b[0mfloat32\u001b[0m\u001b[0;34m)\u001b[0m \u001b[0;34m*\u001b[0m \u001b[0mfactor\u001b[0m \u001b[0;34m+\u001b[0m \u001b[0mmean\u001b[0m \u001b[0;34m*\u001b[0m \u001b[0;34m(\u001b[0m\u001b[0;36m1\u001b[0m \u001b[0;34m-\u001b[0m \u001b[0mfactor\u001b[0m\u001b[0;34m)\u001b[0m\u001b[0;34m,\u001b[0m\u001b[0;34m\u001b[0m\u001b[0;34m\u001b[0m\u001b[0m\n\u001b[1;32m   1679\u001b[0m         \u001b[0mimg\u001b[0m\u001b[0;34m.\u001b[0m\u001b[0mdtype\u001b[0m\u001b[0;34m,\u001b[0m\u001b[0;34m\u001b[0m\u001b[0;34m\u001b[0m\u001b[0m\n",
      "\u001b[0;32m/opt/conda/lib/python3.9/site-packages/albumentations/augmentations/functional.py\u001b[0m in \u001b[0;36mclip\u001b[0;34m(img, dtype, maxval)\u001b[0m\n\u001b[1;32m     30\u001b[0m \u001b[0;34m\u001b[0m\u001b[0m\n\u001b[1;32m     31\u001b[0m \u001b[0;32mdef\u001b[0m \u001b[0mclip\u001b[0m\u001b[0;34m(\u001b[0m\u001b[0mimg\u001b[0m\u001b[0;34m,\u001b[0m \u001b[0mdtype\u001b[0m\u001b[0;34m,\u001b[0m \u001b[0mmaxval\u001b[0m\u001b[0;34m)\u001b[0m\u001b[0;34m:\u001b[0m\u001b[0;34m\u001b[0m\u001b[0;34m\u001b[0m\u001b[0m\n\u001b[0;32m---> 32\u001b[0;31m     \u001b[0;32mreturn\u001b[0m \u001b[0mnp\u001b[0m\u001b[0;34m.\u001b[0m\u001b[0mclip\u001b[0m\u001b[0;34m(\u001b[0m\u001b[0mimg\u001b[0m\u001b[0;34m,\u001b[0m \u001b[0;36m0\u001b[0m\u001b[0;34m,\u001b[0m \u001b[0mmaxval\u001b[0m\u001b[0;34m)\u001b[0m\u001b[0;34m.\u001b[0m\u001b[0mastype\u001b[0m\u001b[0;34m(\u001b[0m\u001b[0mdtype\u001b[0m\u001b[0;34m)\u001b[0m\u001b[0;34m\u001b[0m\u001b[0;34m\u001b[0m\u001b[0m\n\u001b[0m\u001b[1;32m     33\u001b[0m \u001b[0;34m\u001b[0m\u001b[0m\n\u001b[1;32m     34\u001b[0m \u001b[0;34m\u001b[0m\u001b[0m\n",
      "\u001b[0;32m<__array_function__ internals>\u001b[0m in \u001b[0;36mclip\u001b[0;34m(*args, **kwargs)\u001b[0m\n",
      "\u001b[0;32m/opt/conda/lib/python3.9/site-packages/numpy/core/fromnumeric.py\u001b[0m in \u001b[0;36mclip\u001b[0;34m(a, a_min, a_max, out, **kwargs)\u001b[0m\n\u001b[1;32m   2113\u001b[0m \u001b[0;34m\u001b[0m\u001b[0m\n\u001b[1;32m   2114\u001b[0m     \"\"\"\n\u001b[0;32m-> 2115\u001b[0;31m     \u001b[0;32mreturn\u001b[0m \u001b[0m_wrapfunc\u001b[0m\u001b[0;34m(\u001b[0m\u001b[0ma\u001b[0m\u001b[0;34m,\u001b[0m \u001b[0;34m'clip'\u001b[0m\u001b[0;34m,\u001b[0m \u001b[0ma_min\u001b[0m\u001b[0;34m,\u001b[0m \u001b[0ma_max\u001b[0m\u001b[0;34m,\u001b[0m \u001b[0mout\u001b[0m\u001b[0;34m=\u001b[0m\u001b[0mout\u001b[0m\u001b[0;34m,\u001b[0m \u001b[0;34m**\u001b[0m\u001b[0mkwargs\u001b[0m\u001b[0;34m)\u001b[0m\u001b[0;34m\u001b[0m\u001b[0;34m\u001b[0m\u001b[0m\n\u001b[0m\u001b[1;32m   2116\u001b[0m \u001b[0;34m\u001b[0m\u001b[0m\n\u001b[1;32m   2117\u001b[0m \u001b[0;34m\u001b[0m\u001b[0m\n",
      "\u001b[0;32m/opt/conda/lib/python3.9/site-packages/numpy/core/fromnumeric.py\u001b[0m in \u001b[0;36m_wrapfunc\u001b[0;34m(obj, method, *args, **kwds)\u001b[0m\n\u001b[1;32m     55\u001b[0m \u001b[0;34m\u001b[0m\u001b[0m\n\u001b[1;32m     56\u001b[0m     \u001b[0;32mtry\u001b[0m\u001b[0;34m:\u001b[0m\u001b[0;34m\u001b[0m\u001b[0;34m\u001b[0m\u001b[0m\n\u001b[0;32m---> 57\u001b[0;31m         \u001b[0;32mreturn\u001b[0m \u001b[0mbound\u001b[0m\u001b[0;34m(\u001b[0m\u001b[0;34m*\u001b[0m\u001b[0margs\u001b[0m\u001b[0;34m,\u001b[0m \u001b[0;34m**\u001b[0m\u001b[0mkwds\u001b[0m\u001b[0;34m)\u001b[0m\u001b[0;34m\u001b[0m\u001b[0;34m\u001b[0m\u001b[0m\n\u001b[0m\u001b[1;32m     58\u001b[0m     \u001b[0;32mexcept\u001b[0m \u001b[0mTypeError\u001b[0m\u001b[0;34m:\u001b[0m\u001b[0;34m\u001b[0m\u001b[0;34m\u001b[0m\u001b[0m\n\u001b[1;32m     59\u001b[0m         \u001b[0;31m# A TypeError occurs if the object does have such a method in its\u001b[0m\u001b[0;34m\u001b[0m\u001b[0;34m\u001b[0m\u001b[0m\n",
      "\u001b[0;32m/opt/conda/lib/python3.9/site-packages/numpy/core/_methods.py\u001b[0m in \u001b[0;36m_clip\u001b[0;34m(a, min, max, out, casting, **kwargs)\u001b[0m\n\u001b[1;32m    157\u001b[0m             um.maximum, a, min, out=out, casting=casting, **kwargs)\n\u001b[1;32m    158\u001b[0m     \u001b[0;32melse\u001b[0m\u001b[0;34m:\u001b[0m\u001b[0;34m\u001b[0m\u001b[0;34m\u001b[0m\u001b[0m\n\u001b[0;32m--> 159\u001b[0;31m         return _clip_dep_invoke_with_casting(\n\u001b[0m\u001b[1;32m    160\u001b[0m             um.clip, a, min, max, out=out, casting=casting, **kwargs)\n\u001b[1;32m    161\u001b[0m \u001b[0;34m\u001b[0m\u001b[0m\n",
      "\u001b[0;32m/opt/conda/lib/python3.9/site-packages/numpy/core/_methods.py\u001b[0m in \u001b[0;36m_clip_dep_invoke_with_casting\u001b[0;34m(ufunc, out, casting, *args, **kwargs)\u001b[0m\n\u001b[1;32m    111\u001b[0m     \u001b[0;31m# try to deal with broken casting rules\u001b[0m\u001b[0;34m\u001b[0m\u001b[0;34m\u001b[0m\u001b[0m\n\u001b[1;32m    112\u001b[0m     \u001b[0;32mtry\u001b[0m\u001b[0;34m:\u001b[0m\u001b[0;34m\u001b[0m\u001b[0;34m\u001b[0m\u001b[0m\n\u001b[0;32m--> 113\u001b[0;31m         \u001b[0;32mreturn\u001b[0m \u001b[0mufunc\u001b[0m\u001b[0;34m(\u001b[0m\u001b[0;34m*\u001b[0m\u001b[0margs\u001b[0m\u001b[0;34m,\u001b[0m \u001b[0mout\u001b[0m\u001b[0;34m=\u001b[0m\u001b[0mout\u001b[0m\u001b[0;34m,\u001b[0m \u001b[0;34m**\u001b[0m\u001b[0mkwargs\u001b[0m\u001b[0;34m)\u001b[0m\u001b[0;34m\u001b[0m\u001b[0;34m\u001b[0m\u001b[0m\n\u001b[0m\u001b[1;32m    114\u001b[0m     \u001b[0;32mexcept\u001b[0m \u001b[0m_exceptions\u001b[0m\u001b[0;34m.\u001b[0m\u001b[0m_UFuncOutputCastingError\u001b[0m \u001b[0;32mas\u001b[0m \u001b[0me\u001b[0m\u001b[0;34m:\u001b[0m\u001b[0;34m\u001b[0m\u001b[0;34m\u001b[0m\u001b[0m\n\u001b[1;32m    115\u001b[0m         \u001b[0;31m# Numpy 1.17.0, 2019-02-24\u001b[0m\u001b[0;34m\u001b[0m\u001b[0;34m\u001b[0m\u001b[0m\n",
      "\u001b[0;31mKeyboardInterrupt\u001b[0m: "
     ]
    }
   ],
   "source": [
    "# Training the model\n",
    "\n",
    "step = 0\n",
    "\n",
    "for epoch in range(0, EPOCHS):\n",
    "    \n",
    "    print(f'Training, epoch {epoch}')\n",
    "    print('Learning Rate: ' + str(1e-4))\n",
    "\n",
    "    step += 1\n",
    "        \n",
    "    image_augmented, mask_augmented = augment_images()\n",
    "    \n",
    "    csv_logger = CSVLogger(progress_path, append=True, separator=';')\n",
    "    \n",
    "    model.fit(x=image_augmented, y=mask_augmented, epochs=1, batch_size=1, validation_data=(x_valid, y_valid), verbose=1, callbacks=[csv_logger])\n",
    "    \n",
    "    prediction_valid = model.predict(x_valid, verbose=0)\n",
    "    loss_valid = dice_metric_loss(y_valid, prediction_valid)\n",
    "    \n",
    "    loss_valid = loss_valid.numpy()\n",
    "    print(\"Loss Validation: \" + str(loss_valid))\n",
    "        \n",
    "    prediction_test = model.predict(X_test, verbose=0)\n",
    "    loss_test = dice_metric_loss(Y_test, prediction_test)\n",
    "    loss_test = loss_test.numpy()\n",
    "    print(\"Loss Test: \" + str(loss_test))\n",
    "        \n",
    "    with open(progressfull_path, 'a') as f:\n",
    "        f.write('epoch: ' + str(epoch) + '\\nval_loss: ' + str(loss_valid) + '\\ntest_loss: ' + str(loss_test) + '\\n\\n\\n')\n",
    "    \n",
    "    if min_loss_for_saving > loss_valid:\n",
    "        min_loss_for_saving = loss_valid\n",
    "        print(\"Saved model with val_loss: \", loss_valid)\n",
    "        model.save(model_path)\n",
    "        \n",
    "    del image_augmented\n",
    "    del mask_augmented\n",
    "\n",
    "    gc.collect()"
   ]
  },
  {
   "cell_type": "code",
   "execution_count": 77,
   "id": "6bda691c",
   "metadata": {
    "scrolled": true
   },
   "outputs": [
    {
     "name": "stdout",
     "output_type": "stream",
     "text": [
      "Loading the model\n",
      "Predictions done\n",
      "Dice finished\n",
      "Miou finished\n",
      "Precision finished\n",
      "Recall finished\n",
      "Accuracy finished\n",
      "results_ducknet.txt\n",
      "File done\n"
     ]
    }
   ],
   "source": [
    "# Computing the metrics and saving the results\n",
    "\n",
    "print(\"Loading the model\")\n",
    "\n",
    "# model = tf.keras.models.load_model('2023-07-10 03:21:13.133483.h5', custom_objects={'dice_metric_loss':dice_metric_loss})\n",
    "\n",
    "prediction_train = model.predict(x_train, batch_size=2)\n",
    "prediction_valid = model.predict(x_valid, batch_size=2)\n",
    "prediction_test = model.predict(X_test, batch_size=2)\n",
    "\n",
    "print(\"Predictions done\")\n",
    "\n",
    "dice_train = f1_score(np.ndarray.flatten(np.array(y_train, dtype=bool)),\n",
    "                           np.ndarray.flatten(prediction_train > 0.5))\n",
    "dice_test = f1_score(np.ndarray.flatten(np.array(Y_test, dtype=bool)),\n",
    "                          np.ndarray.flatten(prediction_test > 0.5))\n",
    "dice_valid = f1_score(np.ndarray.flatten(np.array(y_valid, dtype=bool)),\n",
    "                           np.ndarray.flatten(prediction_valid > 0.5))\n",
    "\n",
    "print(\"Dice finished\")\n",
    "\n",
    "\n",
    "miou_train = jaccard_score(np.ndarray.flatten(np.array(y_train, dtype=bool)),\n",
    "                           np.ndarray.flatten(prediction_train > 0.5))\n",
    "miou_test = jaccard_score(np.ndarray.flatten(np.array(Y_test, dtype=bool)),\n",
    "                          np.ndarray.flatten(prediction_test > 0.5))\n",
    "miou_valid = jaccard_score(np.ndarray.flatten(np.array(y_valid, dtype=bool)),\n",
    "                           np.ndarray.flatten(prediction_valid > 0.5))\n",
    "\n",
    "print(\"Miou finished\")\n",
    "\n",
    "\n",
    "precision_train = precision_score(np.ndarray.flatten(np.array(y_train, dtype=bool)),\n",
    "                                  np.ndarray.flatten(prediction_train > 0.5))\n",
    "precision_test = precision_score(np.ndarray.flatten(np.array(Y_test, dtype=bool)),\n",
    "                                 np.ndarray.flatten(prediction_test > 0.5))\n",
    "precision_valid = precision_score(np.ndarray.flatten(np.array(y_valid, dtype=bool)),\n",
    "                                  np.ndarray.flatten(prediction_valid > 0.5))\n",
    "\n",
    "print(\"Precision finished\")\n",
    "\n",
    "\n",
    "recall_train = recall_score(np.ndarray.flatten(np.array(y_train, dtype=bool)),\n",
    "                            np.ndarray.flatten(prediction_train > 0.5))\n",
    "recall_test = recall_score(np.ndarray.flatten(np.array(Y_test, dtype=bool)),\n",
    "                           np.ndarray.flatten(prediction_test > 0.5))\n",
    "recall_valid = recall_score(np.ndarray.flatten(np.array(y_valid, dtype=bool)),\n",
    "                            np.ndarray.flatten(prediction_valid > 0.5))\n",
    "\n",
    "print(\"Recall finished\")\n",
    "\n",
    "\n",
    "accuracy_train = accuracy_score(np.ndarray.flatten(np.array(y_train, dtype=bool)),\n",
    "                                np.ndarray.flatten(prediction_train > 0.5))\n",
    "accuracy_test = accuracy_score(np.ndarray.flatten(np.array(Y_test, dtype=bool)),\n",
    "                               np.ndarray.flatten(prediction_test > 0.5))\n",
    "accuracy_valid = accuracy_score(np.ndarray.flatten(np.array(y_valid, dtype=bool)),\n",
    "                                np.ndarray.flatten(prediction_valid > 0.5))\n",
    "\n",
    "\n",
    "print(\"Accuracy finished\")\n",
    "\n",
    "\n",
    "final_file = 'results_ducknet.txt'\n",
    "print(final_file)\n",
    "\n",
    "with open(final_file, 'a') as f:\n",
    "    f.write('polyp' + '\\n\\n')\n",
    "    f.write('dice_train: ' + str(dice_train) + ' dice_valid: ' + str(dice_valid) + ' dice_test: ' + str(dice_test) + '\\n\\n')\n",
    "    f.write('miou_train: ' + str(miou_train) + ' miou_valid: ' + str(miou_valid) + ' miou_test: ' + str(miou_test) + '\\n\\n')\n",
    "    f.write('precision_train: ' + str(precision_train) + ' precision_valid: ' + str(precision_valid) + ' precision_test: ' + str(precision_test) + '\\n\\n')\n",
    "    f.write('recall_train: ' + str(recall_train) + ' recall_valid: ' + str(recall_valid) + ' recall_test: ' + str(recall_test) + '\\n\\n')\n",
    "    f.write('accuracy_train: ' + str(accuracy_train) + ' accuracy_valid: ' + str(accuracy_valid) + ' accuracy_test: ' + str(accuracy_test) + '\\n\\n\\n\\n')\n",
    "\n",
    "print('File done')"
   ]
  },
  {
   "cell_type": "code",
   "execution_count": 79,
   "id": "2884fe6a",
   "metadata": {
    "scrolled": true
   },
   "outputs": [
    {
     "name": "stdout",
     "output_type": "stream",
     "text": [
      "0.7943027492547201\n"
     ]
    },
    {
     "data": {
      "image/png": "[encoded data removed]",
      "text/plain": [
       "<Figure size 936x936 with 3 Axes>"
      ]
     },
     "metadata": {
      "needs_background": "light"
     },
     "output_type": "display_data"
    }
   ],
   "source": [
    "plt.figure(figsize=(13, 13))\n",
    "\n",
    "plt.subplot(1, 3, 1)\n",
    "plt.title(\"Prediction\")\n",
    "plt.imshow(prediction_test[0])\n",
    "\n",
    "plt.subplot(1, 3, 2)\n",
    "plt.title(\"Label\")\n",
    "plt.imshow(Y_test[0])\n",
    "\n",
    "plt.subplot(1, 3, 3)\n",
    "plt.title(\"Image\")\n",
    "plt.imshow(X_test[-9])\n",
    "\n",
    "print(jaccard_score(np.ndarray.flatten(np.array(Y_test[-8], dtype=bool)), \n",
    "                    np.ndarray.flatten(prediction_test[-8] > 0.5)))"
   ]
  },
  {
   "cell_type": "code",
   "execution_count": 73,
   "id": "69e168a3",
   "metadata": {},
   "outputs": [],
   "source": [
    "def calculate_iou(y_true, y_pred):\n",
    "    y_true = y_true.astype(bool)\n",
    "    y_pred = y_pred.astype(bool)\n",
    "    intersection = np.logical_and(y_true, y_pred).sum()\n",
    "    union = np.logical_or(y_true, y_pred).sum()\n",
    "    iou_score = intersection / union\n",
    "    return iou_score"
   ]
  },
  {
   "cell_type": "code",
   "execution_count": 81,
   "id": "be1a0c85",
   "metadata": {},
   "outputs": [],
   "source": [
    "def label_img(image_path, img_height=352, img_width=352):\n",
    "    \n",
    "    X_train = np.zeros((1, img_height, img_width, 3), dtype=np.float32)\n",
    "    Y_train = np.zeros((1, img_height, img_width), dtype=np.uint8)\n",
    "    \n",
    "    mask_path = image_path.replace(\"images\", \"labels\")\n",
    "\n",
    "    image = imread(image_path)\n",
    "    mask_ = imread(mask_path)\n",
    "\n",
    "    mask = np.zeros((img_height, img_width), dtype=np.bool_)\n",
    "\n",
    "    pillow_image = Image.fromarray(image)\n",
    "\n",
    "    pillow_image = pillow_image.resize((img_height, img_width))\n",
    "    image = np.array(pillow_image)\n",
    "\n",
    "    X_train = image / 255\n",
    "\n",
    "    pillow_mask = Image.fromarray(mask_)\n",
    "    pillow_mask = pillow_mask.resize((img_height, img_width), resample=Image.LANCZOS)\n",
    "    mask_ = np.array(pillow_mask)\n",
    "\n",
    "    for i in range(img_height):\n",
    "        for j in range(img_width):\n",
    "            if (mask_[i, j] >= 127).all():\n",
    "                mask[i, j] = 1\n",
    "\n",
    "    Y_train = mask\n",
    "\n",
    "    Y_train = np.expand_dims(Y_train, axis=-1)\n",
    "\n",
    "    return np.expand_dims(X_train, axis=0), np.expand_dims(Y_train, axis=0)"
   ]
  },
  {
   "cell_type": "code",
   "execution_count": 82,
   "id": "fb7d2d5e",
   "metadata": {},
   "outputs": [],
   "source": [
    "a, aa = label_img('./Polyp_segmentation/test/images/9.bmp')"
   ]
  },
  {
   "cell_type": "code",
   "execution_count": 83,
   "id": "bad88696",
   "metadata": {},
   "outputs": [
    {
     "data": {
      "text/plain": [
       "(1, 352, 352, 1)"
      ]
     },
     "execution_count": 83,
     "metadata": {},
     "output_type": "execute_result"
    }
   ],
   "source": [
    "aa.shape"
   ]
  },
  {
   "cell_type": "code",
   "execution_count": 89,
   "id": "8320c4e0",
   "metadata": {},
   "outputs": [
    {
     "name": "stdout",
     "output_type": "stream",
     "text": [
      "0.9162361623616236\n"
     ]
    },
    {
     "data": {
      "image/png": "[encoded data removed]",
      "text/plain": [
       "<Figure size 864x288 with 3 Axes>"
      ]
     },
     "metadata": {
      "needs_background": "light"
     },
     "output_type": "display_data"
    }
   ],
   "source": [
    "fig, axes = plt.subplots(1, 3, figsize=(12, 4))\n",
    "mask = np.squeeze((aa > 0.5).astype(np.uint8))\n",
    "\n",
    "original = imread('./Polyp_segmentation/test/images/9.bmp')\n",
    "original = Image.fromarray(original).convert('RGBA')\n",
    "mask_img = Image.fromarray((mask * 255).astype(np.uint8)).convert('RGBA') # assuming the mask is a single channel image\n",
    "mask_img = mask_img.resize((original.size[0], original.size[1]))\n",
    "blended = Image.blend(original, mask_img, alpha=0.5)\n",
    "axes[0].imshow(blended)\n",
    "axes[0].set_title('Output')\n",
    "axes[0].axis('off')\n",
    "\n",
    "# ground truth mask\n",
    "target = imread('./Polyp_segmentation/test/labels/9.bmp')\n",
    "axes[2].imshow(target, cmap='gray')\n",
    "axes[2].set_title('Target')\n",
    "axes[2].axis('off')\n",
    "\n",
    "# predicted mask\n",
    "axes[1].imshow(mask)\n",
    "axes[1].set_title('Prediction')\n",
    "axes[1].axis('off')\n",
    "\n",
    "print(calculate_iou(aa, ac>0.5))"
   ]
  },
  {
   "cell_type": "code",
   "execution_count": 88,
   "id": "a1d2acb5",
   "metadata": {
    "scrolled": true
   },
   "outputs": [
    {
     "data": {
      "text/plain": [
       "0.9162361623616236"
      ]
     },
     "execution_count": 88,
     "metadata": {},
     "output_type": "execute_result"
    }
   ],
   "source": [
    "ac = model.predict(a)\n",
    "calculate_iou(aa, ac>0.5)"
   ]
  },
  {
   "cell_type": "code",
   "execution_count": null,
   "id": "dd2eca16",
   "metadata": {},
   "outputs": [],
   "source": []
  }
 ],
 "metadata": {
  "kernelspec": {
   "display_name": "Python 3 (ipykernel)",
   "language": "python",
   "name": "python3"
  },
  "language_info": {
   "codemirror_mode": {
    "name": "ipython",
    "version": 3
   },
   "file_extension": ".py",
   "mimetype": "text/x-python",
   "name": "python",
   "nbconvert_exporter": "python",
   "pygments_lexer": "ipython3",
   "version": "3.9.7"
  }
 },
 "nbformat": 4,
 "nbformat_minor": 5
}
